{
 "cells": [
  {
   "cell_type": "markdown",
   "id": "601ea08d",
   "metadata": {},
   "source": [
    "### Libraries Needed for Python Tools for Image Processing and Visualization\n",
    "\n",
    "#### Libraries that come with Python\n",
    "- `os`\n",
    "- `functools` (for `partial`)\n",
    "- `random`\n",
    "\n",
    "#### Libraries to install via `pip` (not included by default)\n",
    "- `numpy` → `pip install numpy`\n",
    "- `matplotlib` → `pip install matplotlib`\n",
    "- `h5py` → `pip install h5py`\n",
    "- `scikit-image` → `pip install scikit-image` (for `skimage.transform` and `skimage.io`)\n",
    "- `opencv-python` → `pip install opencv-python` (for `cv2`)\n",
    "- `Pillow` → `pip install pillow` (for `from PIL import Image`)\n"
   ]
  }
 ],
 "metadata": {
  "language_info": {
   "name": "python"
  }
 },
 "nbformat": 4,
 "nbformat_minor": 5
}
